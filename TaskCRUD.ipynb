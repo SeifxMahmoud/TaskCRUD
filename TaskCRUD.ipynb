{
 "cells": [
  {
   "cell_type": "code",
   "execution_count": 27,
   "id": "2cbe83d9-7cba-4dd7-8d2c-8e28c2ba0544",
   "metadata": {
    "scrolled": true
   },
   "outputs": [
    {
     "name": "stdin",
     "output_type": "stream",
     "text": [
      "Please enter Task title hey\n",
      "Please enter task description hey\n",
      "Enter the due Date for your task << Opt >>  hey\n"
     ]
    },
    {
     "name": "stdout",
     "output_type": "stream",
     "text": [
      "<__main__.Task object at 0x000001A418E6FE00>\n",
      "['1', '2', '3', '4', <__main__.Task object at 0x000001A4198609B0>, <__main__.Task object at 0x000001A418E6FE00>]\n",
      "Your task is created successfully!\n"
     ]
    },
    {
     "name": "stdin",
     "output_type": "stream",
     "text": [
      "Please enter Task title ff\n",
      "Please enter task description f\n",
      "Enter the due Date for your task << Opt >>  f\n"
     ]
    },
    {
     "name": "stdout",
     "output_type": "stream",
     "text": [
      "<__main__.Task object at 0x000001A418DAFA10>\n",
      "['1', '2', '3', '4', <__main__.Task object at 0x000001A4198609B0>, <__main__.Task object at 0x000001A418E6FE00>, <__main__.Task object at 0x000001A418DAFA10>]\n",
      "Your task is created successfully!\n"
     ]
    },
    {
     "name": "stdin",
     "output_type": "stream",
     "text": [
      "Please enter Task title ff\n",
      "Please enter task description f\n",
      "Enter the due Date for your task << Opt >>  f\n"
     ]
    },
    {
     "name": "stdout",
     "output_type": "stream",
     "text": [
      "<__main__.Task object at 0x000001A4164BE6F0>\n",
      "['1', '2', '3', '4', <__main__.Task object at 0x000001A4198609B0>, <__main__.Task object at 0x000001A418E6FE00>, <__main__.Task object at 0x000001A418DAFA10>, <__main__.Task object at 0x000001A4164BE6F0>]\n",
      "Your task is created successfully!\n"
     ]
    },
    {
     "ename": "TypeError",
     "evalue": "display_tasks() missing 1 required positional argument: 'task_list'",
     "output_type": "error",
     "traceback": [
      "\u001b[1;31m---------------------------------------------------------------------------\u001b[0m",
      "\u001b[1;31mTypeError\u001b[0m                                 Traceback (most recent call last)",
      "Cell \u001b[1;32mIn[27], line 66\u001b[0m\n\u001b[0;32m     64\u001b[0m create_task(\u001b[38;5;124m\"\u001b[39m\u001b[38;5;124mTask 2\u001b[39m\u001b[38;5;124m\"\u001b[39m, \u001b[38;5;124m\"\u001b[39m\u001b[38;5;124mDescription of Task 2\u001b[39m\u001b[38;5;124m\"\u001b[39m, \u001b[38;5;124m\"\u001b[39m\u001b[38;5;124m2024-10-11\u001b[39m\u001b[38;5;124m\"\u001b[39m)\n\u001b[0;32m     65\u001b[0m create_task(\u001b[38;5;124m\"\u001b[39m\u001b[38;5;124mTask 3\u001b[39m\u001b[38;5;124m\"\u001b[39m, \u001b[38;5;124m\"\u001b[39m\u001b[38;5;124mDescription of Task 3\u001b[39m\u001b[38;5;124m\"\u001b[39m, \u001b[38;5;124m\"\u001b[39m\u001b[38;5;124m2024-10-12\u001b[39m\u001b[38;5;124m\"\u001b[39m)\n\u001b[1;32m---> 66\u001b[0m display_all \u001b[38;5;241m=\u001b[39m display_tasks()\n",
      "\u001b[1;31mTypeError\u001b[0m: display_tasks() missing 1 required positional argument: 'task_list'"
     ]
    }
   ],
   "source": [
    "class Task():\n",
    "    task_counter = 0 #this will contain auto-generated taskIDs. \n",
    "    def __init__(self, taskID, title, description, dueDate=None, status='pending'):\n",
    "        Task.task_counter += 1 #this will increment the task counter everytime an instance of class Task is created. \n",
    "        self.taskID = taskID\n",
    "        self.title = title\n",
    "        self.description = description \n",
    "        self.dueDate = dueDate \n",
    "        self.status = status\n",
    "# Here I will allow the users to Create tasks of their well. \n",
    "def create_task(title, description, dueDate = None):\n",
    "    title = input('Please enter Task title')\n",
    "    description = input('Please enter task description')\n",
    "    dueDate = input('Enter the due Date for your task << Opt >> ')\n",
    "    task = Task(title, description, dueDate)\n",
    "    task_list.append(task)\n",
    "    print(task)\n",
    "    print(task_list)\n",
    "    print('Your task is created successfully!')\n",
    "# This will allow users to Read tasks efficently. \n",
    "def display_tasks():\n",
    "    if len(task_list) == 0:\n",
    "        print (\"No tasks exist at the moment.\")\n",
    "    else: \n",
    "        for task in task_list:\n",
    "            print(f'Task ID: {task.taskID}\\nTask Title: {task.title}\\nTask Status: {task.status}')\n",
    "# The below function will furthermore allow clients to read using the taskID.\n",
    "def displayTask_by_ID(task_list, taskID): \n",
    "    for task in task_list:\n",
    "        if task.taskID == taskID: \n",
    "            print(f'Task Title: {task.title}\\nTask Description: {task.description}\\nTask Due Date: {task.dueDate}\\nTask Status: {task.status}')\n",
    "            break\n",
    "    print('There were no tasks in the bin.')\n",
    "def update_Task(task_list,task_ID):\n",
    "    for task in task_list: \n",
    "        if task.taskID == taskID:\n",
    "            print (\"Please enter new details, or leave it to be unchanged.\")\n",
    "            new_title= input('please enter the new title.')\n",
    "            new_description = input('please enter the new description')\n",
    "            new_due_date= input('please enter the new due date')\n",
    "            new_status = input('please enter the new status')\n",
    "            if new_title: \n",
    "                task.title = new_title\n",
    "            if new_description:\n",
    "                task.description = new_description \n",
    "            if new_due_date: \n",
    "                task.dueDate= new_due_date\n",
    "            if new_status:\n",
    "                task.status = new_status\n",
    "            print('Task was officially updated')\n",
    "        else: \n",
    "            print ('Task is not found')\n",
    "            break\n",
    "# Now this function allows for Deletion of tasks\n",
    "def delete_task(task_list, taskID): \n",
    "    for task in task_list:\n",
    "        if task.taskID == taskID: \n",
    "            task_list.remove(task)\n",
    "            print('Task is deleted')\n",
    "        else:\n",
    "            'Task is not found'\n",
    "            break"
   ]
  },
  {
   "cell_type": "code",
   "execution_count": null,
   "id": "de7ea660-8051-49f1-84ae-4fc3dfab9c7c",
   "metadata": {},
   "outputs": [],
   "source": []
  }
 ],
 "metadata": {
  "kernelspec": {
   "display_name": "Python 3 (ipykernel)",
   "language": "python",
   "name": "python3"
  },
  "language_info": {
   "codemirror_mode": {
    "name": "ipython",
    "version": 3
   },
   "file_extension": ".py",
   "mimetype": "text/x-python",
   "name": "python",
   "nbconvert_exporter": "python",
   "pygments_lexer": "ipython3",
   "version": "3.12.4"
  }
 },
 "nbformat": 4,
 "nbformat_minor": 5
}
